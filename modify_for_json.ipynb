{
 "cells": [
  {
   "cell_type": "code",
   "execution_count": 1,
   "metadata": {},
   "outputs": [],
   "source": [
    "import csv\n",
    "import json\n",
    "import time\n",
    "import re"
   ]
  },
  {
   "cell_type": "code",
   "execution_count": 9,
   "metadata": {},
   "outputs": [],
   "source": [
    "all_movies = []\n",
    "with open('./data/disney_plus_titles.csv') as file:\n",
    "    reader = csv.reader(file)\n",
    "    headers = reader.__next__()\n",
    "\n",
    "    # ['show_id', 'type', 'title', 'director', 'cast', \n",
    "    # 'country', 'date_added', 'release_year', 'rating', \n",
    "    # 'duration', 'listed_in', 'description']\n",
    "\n",
    "    for row in reader:\n",
    "        movies = dict(zip(headers, row))\n",
    "\n",
    "        movies['show_id'] = movies.pop('show_id')\n",
    "        movies['type'] = movies.pop('type')\n",
    "        movies['title'] = movies.pop('title')\n",
    "\n",
    "        movies['director'] = list(map(str.strip, movies.pop('director').split(',')))\n",
    "        movies['cast'] = list(map(str.strip, movies.pop('cast').split(',')))\n",
    "        movies['country'] = list(map(str.strip, movies.pop('country').split(',')))\n",
    "\n",
    "        # CONVERTENDO EM ISODATE\n",
    "        if movies['date_added']:\n",
    "            time_struct = time.strptime(movies['date_added'].strip(), \"%B %d, %Y\")\n",
    "            iso_date = time.strftime(\"%Y-%m-%dT%H:%M:%S.000Z\", time_struct)\n",
    "            movies['date_added'] = {'$date': iso_date}\n",
    "        else:\n",
    "            movies.pop('date_added', None)\n",
    "\n",
    "        movies['release_year'] = int(movies.pop('release_year'))\n",
    "\n",
    "        # pegando apenas caracteres numericos\n",
    "        # lembrando que para type == movie a duration é por minutos\n",
    "        # já type == tv-show a duration equivale ao número de temporadas (season)\n",
    "        movies['duration'] = int(re.search( \"\\d.\" , movies.pop('duration')).group(0))\n",
    "\n",
    "\n",
    "        movies['listed_in'] = list(map(str.strip, movies.pop('listed_in').split(',')))\n",
    "\n",
    "        movies['rating'] = movies.pop('rating')\n",
    "        movies['description'] = movies.pop('description')\n",
    "\n",
    "        all_movies.append(movies)\n",
    "\n",
    "    with open(\"./data/disney.json\", \"w\") as file:\n",
    "        json.dump(all_movies, file, indent=2)"
   ]
  },
  {
   "cell_type": "code",
   "execution_count": null,
   "metadata": {},
   "outputs": [],
   "source": []
  }
 ],
 "metadata": {
  "kernelspec": {
   "display_name": "Python 3.10.0 64-bit ('3.10.0')",
   "language": "python",
   "name": "python3"
  },
  "language_info": {
   "codemirror_mode": {
    "name": "ipython",
    "version": 3
   },
   "file_extension": ".py",
   "mimetype": "text/x-python",
   "name": "python",
   "nbconvert_exporter": "python",
   "pygments_lexer": "ipython3",
   "version": "3.10.0"
  },
  "orig_nbformat": 4,
  "vscode": {
   "interpreter": {
    "hash": "af5f9752ad4bfcea711b4f075d1fe5e01ace6cae4dea874fac24c2f191b6b9c6"
   }
  }
 },
 "nbformat": 4,
 "nbformat_minor": 2
}
